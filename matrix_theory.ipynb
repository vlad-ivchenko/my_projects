{
 "cells": [
  {
   "cell_type": "markdown",
   "metadata": {
    "toc": true
   },
   "source": [
    "<h1>Содержание<span class=\"tocSkip\"></span></h1>\n",
    "<div class=\"toc\"><ul class=\"toc-item\"><li><span><a href=\"#Загрузка-данных\" data-toc-modified-id=\"Загрузка-данных-1\"><span class=\"toc-item-num\">1&nbsp;&nbsp;</span>Загрузка данных</a></span></li><li><span><a href=\"#Умножение-матриц\" data-toc-modified-id=\"Умножение-матриц-2\"><span class=\"toc-item-num\">2&nbsp;&nbsp;</span>Умножение матриц</a></span><ul class=\"toc-item\"><li><span><a href=\"#UPD2-Элементы-нового-вектора-весовых-коэффициентов-являются-линейными-комбинацими-старого-вектора-весов.-Так-как-присутствует-линейная-связь-каждого-элемента,-операция-не-должна-влиять-на-обучение.\" data-toc-modified-id=\"UPD2-Элементы-нового-вектора-весовых-коэффициентов-являются-линейными-комбинацими-старого-вектора-весов.-Так-как-присутствует-линейная-связь-каждого-элемента,-операция-не-должна-влиять-на-обучение.-2.1\"><span class=\"toc-item-num\">2.1&nbsp;&nbsp;</span>UPD2 Элементы нового вектора весовых коэффициентов являются линейными комбинацими старого вектора весов. Так как присутствует линейная связь каждого элемента, операция не должна влиять на обучение.</a></span></li></ul></li><li><span><a href=\"#Алгоритм-преобразования\" data-toc-modified-id=\"Алгоритм-преобразования-3\"><span class=\"toc-item-num\">3&nbsp;&nbsp;</span>Алгоритм преобразования</a></span></li><li><span><a href=\"#Проверка-алгоритма\" data-toc-modified-id=\"Проверка-алгоритма-4\"><span class=\"toc-item-num\">4&nbsp;&nbsp;</span>Проверка алгоритма</a></span></li><li><span><a href=\"#Чек-лист-проверки\" data-toc-modified-id=\"Чек-лист-проверки-5\"><span class=\"toc-item-num\">5&nbsp;&nbsp;</span>Чек-лист проверки</a></span></li></ul></div>"
   ]
  },
  {
   "cell_type": "markdown",
   "metadata": {},
   "source": [
    "# Защита персональных данных клиентов"
   ]
  },
  {
   "cell_type": "markdown",
   "metadata": {},
   "source": [
    "Вам нужно защитить данные клиентов страховой компании «Хоть потоп». Разработайте такой метод преобразования данных, чтобы по ним было сложно восстановить персональную информацию. Обоснуйте корректность его работы.\n",
    "\n",
    "Нужно защитить данные, чтобы при преобразовании качество моделей машинного обучения не ухудшилось. Подбирать наилучшую модель не требуется."
   ]
  },
  {
   "cell_type": "markdown",
   "metadata": {},
   "source": [
    "## Загрузка данных"
   ]
  },
  {
   "cell_type": "code",
   "execution_count": 1,
   "metadata": {},
   "outputs": [],
   "source": [
    "import pandas as pd\n",
    "import numpy as np\n",
    "import matplotlib.pyplot as plt\n",
    "import seaborn as sns\n",
    "import warnings\n",
    "warnings.filterwarnings(\"ignore\");\n",
    "\n",
    "\n",
    "from sklearn.metrics import mean_absolute_error, r2_score\n",
    "from sklearn.metrics import confusion_matrix, accuracy_score\n",
    "from sklearn.model_selection import train_test_split\n",
    "from sklearn.model_selection import train_test_split \n",
    "from sklearn.linear_model import LinearRegression\n",
    "\n",
    "from sklearn import metrics\n",
    "from sklearn.metrics import mean_squared_error\n",
    "import random"
   ]
  },
  {
   "cell_type": "code",
   "execution_count": 2,
   "metadata": {},
   "outputs": [
    {
     "data": {
      "text/html": [
       "<div>\n",
       "<style scoped>\n",
       "    .dataframe tbody tr th:only-of-type {\n",
       "        vertical-align: middle;\n",
       "    }\n",
       "\n",
       "    .dataframe tbody tr th {\n",
       "        vertical-align: top;\n",
       "    }\n",
       "\n",
       "    .dataframe thead th {\n",
       "        text-align: right;\n",
       "    }\n",
       "</style>\n",
       "<table border=\"1\" class=\"dataframe\">\n",
       "  <thead>\n",
       "    <tr style=\"text-align: right;\">\n",
       "      <th></th>\n",
       "      <th>Пол</th>\n",
       "      <th>Возраст</th>\n",
       "      <th>Зарплата</th>\n",
       "      <th>Члены семьи</th>\n",
       "      <th>Страховые выплаты</th>\n",
       "    </tr>\n",
       "  </thead>\n",
       "  <tbody>\n",
       "    <tr>\n",
       "      <td>0</td>\n",
       "      <td>1</td>\n",
       "      <td>41.0</td>\n",
       "      <td>49600.0</td>\n",
       "      <td>1</td>\n",
       "      <td>0</td>\n",
       "    </tr>\n",
       "    <tr>\n",
       "      <td>1</td>\n",
       "      <td>0</td>\n",
       "      <td>46.0</td>\n",
       "      <td>38000.0</td>\n",
       "      <td>1</td>\n",
       "      <td>1</td>\n",
       "    </tr>\n",
       "    <tr>\n",
       "      <td>2</td>\n",
       "      <td>0</td>\n",
       "      <td>29.0</td>\n",
       "      <td>21000.0</td>\n",
       "      <td>0</td>\n",
       "      <td>0</td>\n",
       "    </tr>\n",
       "    <tr>\n",
       "      <td>3</td>\n",
       "      <td>0</td>\n",
       "      <td>21.0</td>\n",
       "      <td>41700.0</td>\n",
       "      <td>2</td>\n",
       "      <td>0</td>\n",
       "    </tr>\n",
       "    <tr>\n",
       "      <td>4</td>\n",
       "      <td>1</td>\n",
       "      <td>28.0</td>\n",
       "      <td>26100.0</td>\n",
       "      <td>0</td>\n",
       "      <td>0</td>\n",
       "    </tr>\n",
       "    <tr>\n",
       "      <td>...</td>\n",
       "      <td>...</td>\n",
       "      <td>...</td>\n",
       "      <td>...</td>\n",
       "      <td>...</td>\n",
       "      <td>...</td>\n",
       "    </tr>\n",
       "    <tr>\n",
       "      <td>4995</td>\n",
       "      <td>0</td>\n",
       "      <td>28.0</td>\n",
       "      <td>35700.0</td>\n",
       "      <td>2</td>\n",
       "      <td>0</td>\n",
       "    </tr>\n",
       "    <tr>\n",
       "      <td>4996</td>\n",
       "      <td>0</td>\n",
       "      <td>34.0</td>\n",
       "      <td>52400.0</td>\n",
       "      <td>1</td>\n",
       "      <td>0</td>\n",
       "    </tr>\n",
       "    <tr>\n",
       "      <td>4997</td>\n",
       "      <td>0</td>\n",
       "      <td>20.0</td>\n",
       "      <td>33900.0</td>\n",
       "      <td>2</td>\n",
       "      <td>0</td>\n",
       "    </tr>\n",
       "    <tr>\n",
       "      <td>4998</td>\n",
       "      <td>1</td>\n",
       "      <td>22.0</td>\n",
       "      <td>32700.0</td>\n",
       "      <td>3</td>\n",
       "      <td>0</td>\n",
       "    </tr>\n",
       "    <tr>\n",
       "      <td>4999</td>\n",
       "      <td>1</td>\n",
       "      <td>28.0</td>\n",
       "      <td>40600.0</td>\n",
       "      <td>1</td>\n",
       "      <td>0</td>\n",
       "    </tr>\n",
       "  </tbody>\n",
       "</table>\n",
       "<p>5000 rows × 5 columns</p>\n",
       "</div>"
      ],
      "text/plain": [
       "      Пол  Возраст  Зарплата  Члены семьи  Страховые выплаты\n",
       "0       1     41.0   49600.0            1                  0\n",
       "1       0     46.0   38000.0            1                  1\n",
       "2       0     29.0   21000.0            0                  0\n",
       "3       0     21.0   41700.0            2                  0\n",
       "4       1     28.0   26100.0            0                  0\n",
       "...   ...      ...       ...          ...                ...\n",
       "4995    0     28.0   35700.0            2                  0\n",
       "4996    0     34.0   52400.0            1                  0\n",
       "4997    0     20.0   33900.0            2                  0\n",
       "4998    1     22.0   32700.0            3                  0\n",
       "4999    1     28.0   40600.0            1                  0\n",
       "\n",
       "[5000 rows x 5 columns]"
      ]
     },
     "metadata": {},
     "output_type": "display_data"
    },
    {
     "name": "stdout",
     "output_type": "stream",
     "text": [
      "<class 'pandas.core.frame.DataFrame'>\n",
      "RangeIndex: 5000 entries, 0 to 4999\n",
      "Data columns (total 5 columns):\n",
      "Пол                  5000 non-null int64\n",
      "Возраст              5000 non-null float64\n",
      "Зарплата             5000 non-null float64\n",
      "Члены семьи          5000 non-null int64\n",
      "Страховые выплаты    5000 non-null int64\n",
      "dtypes: float64(2), int64(3)\n",
      "memory usage: 195.4 KB\n",
      "None\n"
     ]
    }
   ],
   "source": [
    "#Открываю файл и смотрю данные\n",
    "data = pd.read_csv('/datasets/insurance.csv')\n",
    "display(data)\n",
    "print(data.info())"
   ]
  },
  {
   "cell_type": "markdown",
   "metadata": {},
   "source": [
    "В таблице 4 столбца признаков и один целевой - страховые выплаты, который содержит до 5 значений. Тут подойдет линейная регрессия для задачи классификации небинарного признака. Пропущенных значений нет."
   ]
  },
  {
   "cell_type": "code",
   "execution_count": 3,
   "metadata": {},
   "outputs": [
    {
     "data": {
      "image/png": "[encoded data removed]",
      "text/plain": [
       "<Figure size 432x288 with 1 Axes>"
      ]
     },
     "metadata": {},
     "output_type": "display_data"
    }
   ],
   "source": [
    "# Целевой признак\n",
    "labels = ['0 выплат','1 выплата','2 выплаты','3 выплаты','4 выплаты','5 выплат']\n",
    "compensation = data['Страховые выплаты'].value_counts()\n",
    "explode = (0.1, 0, 0, 0, 0, 0)\n",
    "plt.pie(compensation, autopct='%1.1f%%', radius=2.5, labels=labels,explode=explode );\n",
    "plt.title('Целевой признак: страховые выплаты');\n",
    "plt.show();"
   ]
  },
  {
   "cell_type": "markdown",
   "metadata": {},
   "source": [
    "88.7% всех выплат равны 0."
   ]
  },
  {
   "cell_type": "code",
   "execution_count": 4,
   "metadata": {},
   "outputs": [
    {
     "data": {
      "image/png": "[encoded data removed]",
      "text/plain": [
       "<Figure size 720x288 with 1 Axes>"
      ]
     },
     "metadata": {},
     "output_type": "display_data"
    }
   ],
   "source": [
    "#Другой признак: Пол и возраст\n",
    "sns.set(rc={'figure.figsize':(10,4)})\n",
    "ax = sns.kdeplot(data[data['Пол']==1].Возраст , shade=True, color='r', label='пол 1')\n",
    "ax = sns.kdeplot(data[data['Пол']==0].Возраст , shade=True, color='b', label='пол 0')\n",
    "plt.title('Распределение по полу')\n",
    "plt.xlabel('Возраст клиентов');"
   ]
  },
  {
   "cell_type": "markdown",
   "metadata": {},
   "source": [
    "Очень близкие данные соотношения пола и возраста."
   ]
  },
  {
   "cell_type": "code",
   "execution_count": 5,
   "metadata": {},
   "outputs": [
    {
     "data": {
      "image/png": "[encoded data removed]",
      "text/plain": [
       "<Figure size 576x576 with 2 Axes>"
      ]
     },
     "metadata": {},
     "output_type": "display_data"
    }
   ],
   "source": [
    "#Корреляция признаков\n",
    "columns = ['Пол', 'Возраст', 'Зарплата', 'Члены семьи']\n",
    "fig, ax = plt.subplots(figsize=(8,8))\n",
    "sns.heatmap(data[columns].corr(), square=True, ax=ax, annot = True);\n",
    "plt.title('Взаимосвязь признаков');"
   ]
  },
  {
   "cell_type": "markdown",
   "metadata": {},
   "source": [
    "Корреляции признаков незначительны"
   ]
  },
  {
   "cell_type": "markdown",
   "metadata": {},
   "source": [
    "## Умножение матриц"
   ]
  },
  {
   "cell_type": "markdown",
   "metadata": {},
   "source": [
    "Признаки умножают на обратимую матрицу. Изменится ли качество линейной регрессии? (Её можно обучить заново.)"
   ]
  },
  {
   "cell_type": "markdown",
   "metadata": {},
   "source": [
    "Обозначения:\n",
    "\n",
    "- $X$ — матрица признаков (нулевой столбец состоит из единиц)\n",
    "\n",
    "- $y$ — вектор целевого признака\n",
    "\n",
    "- $P$ — матрица, на которую умножаются признаки\n",
    "\n",
    "- $w$ — вектор весов линейной регрессии (нулевой элемент равен сдвигу)"
   ]
  },
  {
   "cell_type": "markdown",
   "metadata": {},
   "source": [
    "Предсказания:\n",
    "\n",
    "$$\n",
    "a = Xw\n",
    "$$\n",
    "\n",
    "Задача обучения:\n",
    "\n",
    "$$\n",
    "w = \\arg\\min_w MSE(Xw, y)\n",
    "$$\n",
    "\n",
    "Формула обучения:\n",
    "\n",
    "$$\n",
    "w = (X^T X)^{-1} X^T y\n",
    "$$"
   ]
  },
  {
   "cell_type": "markdown",
   "metadata": {},
   "source": [
    "**Ответ:** Не изменится\n",
    "\n",
    "**Обоснование:** умножим матрицу Х на Р получим матрицу ХР"
   ]
  },
  {
   "cell_type": "markdown",
   "metadata": {},
   "source": [
    "$$\n",
    "a = XPw\n",
    "$$\n",
    "\n",
    "где wp:\n",
    "\n",
    "$$\n",
    "wp = ((XP^T)XP)^{-1}(XP)^Ty\n",
    "$$\n",
    "\n",
    "$$\n",
    "((XP)^TXP)^{-1}(XP)^T = (P^TX^T)^{-1}P^TX^T = P^{-1}(X^TX)^{-1}EX^T = P^{-1}(X^TX)^{-1}X^T\n",
    "$$\n",
    "\n",
    "$$\n",
    "w = P^{-1}(X^TX)-1X^Ty = P^{-1}w\n",
    "$$\n",
    "Произведение матрицы на обратную дает единичную, получаем:\n",
    "\n",
    "$$\n",
    "a = XPP^{-1}w\n",
    "$$\n",
    "\n",
    "$$\n",
    "a = Xw\n",
    "$$"
   ]
  },
  {
   "cell_type": "markdown",
   "metadata": {},
   "source": [
    "### UPD2 Элементы нового вектора весовых коэффициентов являются линейными комбинацими старого вектора весов. Так как присутствует линейная связь каждого элемента, операция не должна влиять на обучение."
   ]
  },
  {
   "cell_type": "markdown",
   "metadata": {},
   "source": [
    "## Алгоритм преобразования"
   ]
  },
  {
   "cell_type": "markdown",
   "metadata": {},
   "source": [
    "**Алгоритм**\n",
    "1.Создадим квадратную матрицу с помощью модуля numpy random размерностью признаков основной +1( 4 на 4)\n",
    "2. Проверим на обратимость с помощью встроенной функции np.linalg.inv\n",
    "3. Домножим справа матрицу признаков с присоединенным слева единичным столбцом Х на случайную матрицу Р\n",
    "4. Обучим модель на новых данных и убедимся, что качество предсказаний осталось как и с исходными данными."
   ]
  },
  {
   "cell_type": "markdown",
   "metadata": {},
   "source": [
    "**Обоснование**\n",
    "\n",
    "Исходя из проведенных теоретических рассчетов, качество предсказания модели не должно измениться. "
   ]
  },
  {
   "cell_type": "markdown",
   "metadata": {},
   "source": [
    "## Проверка алгоритма"
   ]
  },
  {
   "cell_type": "code",
   "execution_count": 6,
   "metadata": {},
   "outputs": [
    {
     "name": "stdout",
     "output_type": "stream",
     "text": [
      "Размер обучающей выборки: 3750 объектов\n",
      "Размер валидационной выборки: 1250 объекта\n"
     ]
    }
   ],
   "source": [
    "#Разделим на обучающую и валидационную\n",
    "data_train, data_valid = train_test_split(data, test_size=0.25, random_state=12345)\n",
    "\n",
    "#Разделим признаки\n",
    "features_train = data_train.drop(['Страховые выплаты'], axis=1)\n",
    "target_train = data_train['Страховые выплаты']\n",
    "\n",
    "features_valid = data_valid.drop(['Страховые выплаты'], axis=1)\n",
    "target_valid = data_valid['Страховые выплаты']\n",
    "\n",
    "print('Размер обучающей выборки:', data_train.shape[0],'объектов')\n",
    "print('Размер валидационной выборки:', data_valid.shape[0],'объекта')"
   ]
  },
  {
   "cell_type": "code",
   "execution_count": 7,
   "metadata": {},
   "outputs": [
    {
     "name": "stdout",
     "output_type": "stream",
     "text": [
      "r2 row 0.435227571270266\n"
     ]
    }
   ],
   "source": [
    "#модель до преобразования\n",
    "model_1 = LinearRegression()\n",
    "model_1.fit(features_train, target_train)\n",
    "predictions = model_1.predict(features_valid)\n",
    "print('r2 row',r2_score(target_valid, predictions))"
   ]
  },
  {
   "cell_type": "code",
   "execution_count": 8,
   "metadata": {},
   "outputs": [
    {
     "name": "stdout",
     "output_type": "stream",
     "text": [
      "=========Преобразованная матрица признаков===========\n"
     ]
    },
    {
     "data": {
      "text/html": [
       "<div>\n",
       "<style scoped>\n",
       "    .dataframe tbody tr th:only-of-type {\n",
       "        vertical-align: middle;\n",
       "    }\n",
       "\n",
       "    .dataframe tbody tr th {\n",
       "        vertical-align: top;\n",
       "    }\n",
       "\n",
       "    .dataframe thead th {\n",
       "        text-align: right;\n",
       "    }\n",
       "</style>\n",
       "<table border=\"1\" class=\"dataframe\">\n",
       "  <thead>\n",
       "    <tr style=\"text-align: right;\">\n",
       "      <th></th>\n",
       "      <th>0</th>\n",
       "      <th>1</th>\n",
       "      <th>2</th>\n",
       "      <th>3</th>\n",
       "    </tr>\n",
       "  </thead>\n",
       "  <tbody>\n",
       "    <tr>\n",
       "      <td>3369</td>\n",
       "      <td>36559.0</td>\n",
       "      <td>36765.0</td>\n",
       "      <td>398422.0</td>\n",
       "      <td>362583.0</td>\n",
       "    </tr>\n",
       "    <tr>\n",
       "      <td>1441</td>\n",
       "      <td>57885.0</td>\n",
       "      <td>58043.0</td>\n",
       "      <td>633775.0</td>\n",
       "      <td>576453.0</td>\n",
       "    </tr>\n",
       "    <tr>\n",
       "      <td>571</td>\n",
       "      <td>41358.0</td>\n",
       "      <td>41521.0</td>\n",
       "      <td>452262.0</td>\n",
       "      <td>411429.0</td>\n",
       "    </tr>\n",
       "    <tr>\n",
       "      <td>225</td>\n",
       "      <td>45390.0</td>\n",
       "      <td>45573.0</td>\n",
       "      <td>496282.0</td>\n",
       "      <td>451481.0</td>\n",
       "    </tr>\n",
       "    <tr>\n",
       "      <td>2558</td>\n",
       "      <td>50868.0</td>\n",
       "      <td>51039.0</td>\n",
       "      <td>556769.0</td>\n",
       "      <td>506455.0</td>\n",
       "    </tr>\n",
       "    <tr>\n",
       "      <td>...</td>\n",
       "      <td>...</td>\n",
       "      <td>...</td>\n",
       "      <td>...</td>\n",
       "      <td>...</td>\n",
       "    </tr>\n",
       "    <tr>\n",
       "      <td>3497</td>\n",
       "      <td>32436.0</td>\n",
       "      <td>32646.0</td>\n",
       "      <td>353310.0</td>\n",
       "      <td>321546.0</td>\n",
       "    </tr>\n",
       "    <tr>\n",
       "      <td>3492</td>\n",
       "      <td>22932.0</td>\n",
       "      <td>23084.0</td>\n",
       "      <td>249848.0</td>\n",
       "      <td>227416.0</td>\n",
       "    </tr>\n",
       "    <tr>\n",
       "      <td>2177</td>\n",
       "      <td>45043.0</td>\n",
       "      <td>45239.0</td>\n",
       "      <td>491912.0</td>\n",
       "      <td>447557.0</td>\n",
       "    </tr>\n",
       "    <tr>\n",
       "      <td>3557</td>\n",
       "      <td>50284.0</td>\n",
       "      <td>50406.0</td>\n",
       "      <td>551218.0</td>\n",
       "      <td>501338.0</td>\n",
       "    </tr>\n",
       "    <tr>\n",
       "      <td>4578</td>\n",
       "      <td>40952.0</td>\n",
       "      <td>41047.0</td>\n",
       "      <td>448895.0</td>\n",
       "      <td>408247.0</td>\n",
       "    </tr>\n",
       "  </tbody>\n",
       "</table>\n",
       "<p>3750 rows × 4 columns</p>\n",
       "</div>"
      ],
      "text/plain": [
       "            0        1         2         3\n",
       "3369  36559.0  36765.0  398422.0  362583.0\n",
       "1441  57885.0  58043.0  633775.0  576453.0\n",
       "571   41358.0  41521.0  452262.0  411429.0\n",
       "225   45390.0  45573.0  496282.0  451481.0\n",
       "2558  50868.0  51039.0  556769.0  506455.0\n",
       "...       ...      ...       ...       ...\n",
       "3497  32436.0  32646.0  353310.0  321546.0\n",
       "3492  22932.0  23084.0  249848.0  227416.0\n",
       "2177  45043.0  45239.0  491912.0  447557.0\n",
       "3557  50284.0  50406.0  551218.0  501338.0\n",
       "4578  40952.0  41047.0  448895.0  408247.0\n",
       "\n",
       "[3750 rows x 4 columns]"
      ]
     },
     "metadata": {},
     "output_type": "display_data"
    }
   ],
   "source": [
    "#создадим квадратную матрицу размера 4-4 (так как признаков 4 столбца)\n",
    "try:\n",
    "    features_reversed = np.random.randint(0, 15, size=(4, 4))\n",
    "    reverse = np.linalg.inv(features_reversed)\n",
    "except:\n",
    "    print('Матрица необратима')\n",
    "\n",
    "#проверим на обратимость\n",
    "#reverse = np.linalg.inv(features_reversed)\n",
    "\n",
    "#перемножим изначальную матрицу на обратимую\n",
    "new_features_train = features_train.dot(features_reversed)\n",
    "print('=========Преобразованная матрица признаков===========')\n",
    "display(new_features_train)\n",
    "\n",
    "new_features_valid = features_valid.dot(features_reversed)"
   ]
  },
  {
   "cell_type": "markdown",
   "metadata": {},
   "source": [
    "Преобразованная матрица признаков изменилась до неузнаваемости."
   ]
  },
  {
   "cell_type": "code",
   "execution_count": 9,
   "metadata": {},
   "outputs": [
    {
     "data": {
      "text/plain": [
       "0.4352275712701791"
      ]
     },
     "execution_count": 9,
     "metadata": {},
     "output_type": "execute_result"
    }
   ],
   "source": [
    "#обучим модель после преобразования\n",
    "model_2 = LinearRegression()\n",
    "model_2.fit(new_features_train, target_train)\n",
    "predictions_new = model_2.predict(new_features_valid)\n",
    "r2_score(target_valid, predictions_new)"
   ]
  },
  {
   "cell_type": "markdown",
   "metadata": {},
   "source": [
    "Значение метрик r2 до и после домножения исходной матрицы признаков на обратимую матрицу остались практически без изменений, что и описывалось в алгоритме."
   ]
  }
 ],
 "metadata": {
  "kernelspec": {
   "display_name": "Python 3",
   "language": "python",
   "name": "python3"
  },
  "language_info": {
   "codemirror_mode": {
    "name": "ipython",
    "version": 3
   },
   "file_extension": ".py",
   "mimetype": "text/x-python",
   "name": "python",
   "nbconvert_exporter": "python",
   "pygments_lexer": "ipython3",
   "version": "3.7.8"
  },
  "toc": {
   "base_numbering": 1,
   "nav_menu": {},
   "number_sections": true,
   "sideBar": true,
   "skip_h1_title": true,
   "title_cell": "Содержание",
   "title_sidebar": "Contents",
   "toc_cell": true,
   "toc_position": {},
   "toc_section_display": true,
   "toc_window_display": false
  }
 },
 "nbformat": 4,
 "nbformat_minor": 2
}
