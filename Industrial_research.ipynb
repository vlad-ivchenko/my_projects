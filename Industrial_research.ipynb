{
 "cells": [
  {
   "cell_type": "markdown",
   "metadata": {},
   "source": [
    "# Выбор локации для скважины"
   ]
  },
  {
   "cell_type": "markdown",
   "metadata": {},
   "source": [
    "Допустим, вы работаете в добывающей компании «ГлавРосГосНефть». Нужно решить, где бурить новую скважину.\n",
    "\n",
    "Вам предоставлены пробы нефти в трёх регионах: в каждом 10 000 месторождений, где измерили качество нефти и объём её запасов. Постройте модель машинного обучения, которая поможет определить регион, где добыча принесёт наибольшую прибыль. Проанализируйте возможную прибыль и риски техникой *Bootstrap.*\n",
    "\n",
    "Шаги для выбора локации:\n",
    "\n",
    "- В избранном регионе ищут месторождения, для каждого определяют значения признаков;\n",
    "- Строят модель и оценивают объём запасов;\n",
    "- Выбирают месторождения с самым высокими оценками значений. Количество месторождений зависит от бюджета компании и стоимости разработки одной скважины;\n",
    "- Прибыль равна суммарной прибыли отобранных месторождений."
   ]
  },
  {
   "cell_type": "markdown",
   "metadata": {},
   "source": [
    "## Загрузка и подготовка данных"
   ]
  },
  {
   "cell_type": "code",
   "execution_count": 2,
   "metadata": {},
   "outputs": [],
   "source": [
    "import pandas as pd\n",
    "import numpy as np\n",
    "import matplotlib.pyplot as plt\n",
    "import seaborn as sns\n",
    "import warnings\n",
    "warnings.filterwarnings(\"ignore\");\n",
    "\n",
    "\n",
    "from sklearn.metrics import r2_score, mean_absolute_error\n",
    "from sklearn.metrics import confusion_matrix, accuracy_score\n",
    "from sklearn.model_selection import train_test_split\n",
    "from sklearn.model_selection import train_test_split \n",
    "from sklearn.linear_model import LinearRegression\n",
    "from sklearn.model_selection import GridSearchCV\n",
    "from sklearn import tree\n",
    "import itertools\n",
    "from sklearn.model_selection import cross_val_score\n",
    "from sklearn.preprocessing import StandardScaler\n",
    "from sklearn.utils import shuffle\n",
    "from sklearn import metrics\n",
    "from sklearn.metrics import mean_squared_error\n",
    "import random"
   ]
  },
  {
   "cell_type": "code",
   "execution_count": 3,
   "metadata": {},
   "outputs": [
    {
     "data": {
      "text/html": [
       "<div>\n",
       "<style scoped>\n",
       "    .dataframe tbody tr th:only-of-type {\n",
       "        vertical-align: middle;\n",
       "    }\n",
       "\n",
       "    .dataframe tbody tr th {\n",
       "        vertical-align: top;\n",
       "    }\n",
       "\n",
       "    .dataframe thead th {\n",
       "        text-align: right;\n",
       "    }\n",
       "</style>\n",
       "<table border=\"1\" class=\"dataframe\">\n",
       "  <thead>\n",
       "    <tr style=\"text-align: right;\">\n",
       "      <th></th>\n",
       "      <th>id</th>\n",
       "      <th>f0</th>\n",
       "      <th>f1</th>\n",
       "      <th>f2</th>\n",
       "      <th>product</th>\n",
       "    </tr>\n",
       "  </thead>\n",
       "  <tbody>\n",
       "    <tr>\n",
       "      <td>0</td>\n",
       "      <td>txEyH</td>\n",
       "      <td>0.705745</td>\n",
       "      <td>-0.497823</td>\n",
       "      <td>1.221170</td>\n",
       "      <td>105.280062</td>\n",
       "    </tr>\n",
       "    <tr>\n",
       "      <td>1</td>\n",
       "      <td>2acmU</td>\n",
       "      <td>1.334711</td>\n",
       "      <td>-0.340164</td>\n",
       "      <td>4.365080</td>\n",
       "      <td>73.037750</td>\n",
       "    </tr>\n",
       "    <tr>\n",
       "      <td>2</td>\n",
       "      <td>409Wp</td>\n",
       "      <td>1.022732</td>\n",
       "      <td>0.151990</td>\n",
       "      <td>1.419926</td>\n",
       "      <td>85.265647</td>\n",
       "    </tr>\n",
       "    <tr>\n",
       "      <td>3</td>\n",
       "      <td>iJLyR</td>\n",
       "      <td>-0.032172</td>\n",
       "      <td>0.139033</td>\n",
       "      <td>2.978566</td>\n",
       "      <td>168.620776</td>\n",
       "    </tr>\n",
       "    <tr>\n",
       "      <td>4</td>\n",
       "      <td>Xdl7t</td>\n",
       "      <td>1.988431</td>\n",
       "      <td>0.155413</td>\n",
       "      <td>4.751769</td>\n",
       "      <td>154.036647</td>\n",
       "    </tr>\n",
       "    <tr>\n",
       "      <td>...</td>\n",
       "      <td>...</td>\n",
       "      <td>...</td>\n",
       "      <td>...</td>\n",
       "      <td>...</td>\n",
       "      <td>...</td>\n",
       "    </tr>\n",
       "    <tr>\n",
       "      <td>99995</td>\n",
       "      <td>DLsed</td>\n",
       "      <td>0.971957</td>\n",
       "      <td>0.370953</td>\n",
       "      <td>6.075346</td>\n",
       "      <td>110.744026</td>\n",
       "    </tr>\n",
       "    <tr>\n",
       "      <td>99996</td>\n",
       "      <td>QKivN</td>\n",
       "      <td>1.392429</td>\n",
       "      <td>-0.382606</td>\n",
       "      <td>1.273912</td>\n",
       "      <td>122.346843</td>\n",
       "    </tr>\n",
       "    <tr>\n",
       "      <td>99997</td>\n",
       "      <td>3rnvd</td>\n",
       "      <td>1.029585</td>\n",
       "      <td>0.018787</td>\n",
       "      <td>-1.348308</td>\n",
       "      <td>64.375443</td>\n",
       "    </tr>\n",
       "    <tr>\n",
       "      <td>99998</td>\n",
       "      <td>7kl59</td>\n",
       "      <td>0.998163</td>\n",
       "      <td>-0.528582</td>\n",
       "      <td>1.583869</td>\n",
       "      <td>74.040764</td>\n",
       "    </tr>\n",
       "    <tr>\n",
       "      <td>99999</td>\n",
       "      <td>1CWhH</td>\n",
       "      <td>1.764754</td>\n",
       "      <td>-0.266417</td>\n",
       "      <td>5.722849</td>\n",
       "      <td>149.633246</td>\n",
       "    </tr>\n",
       "  </tbody>\n",
       "</table>\n",
       "<p>100000 rows × 5 columns</p>\n",
       "</div>"
      ],
      "text/plain": [
       "          id        f0        f1        f2     product\n",
       "0      txEyH  0.705745 -0.497823  1.221170  105.280062\n",
       "1      2acmU  1.334711 -0.340164  4.365080   73.037750\n",
       "2      409Wp  1.022732  0.151990  1.419926   85.265647\n",
       "3      iJLyR -0.032172  0.139033  2.978566  168.620776\n",
       "4      Xdl7t  1.988431  0.155413  4.751769  154.036647\n",
       "...      ...       ...       ...       ...         ...\n",
       "99995  DLsed  0.971957  0.370953  6.075346  110.744026\n",
       "99996  QKivN  1.392429 -0.382606  1.273912  122.346843\n",
       "99997  3rnvd  1.029585  0.018787 -1.348308   64.375443\n",
       "99998  7kl59  0.998163 -0.528582  1.583869   74.040764\n",
       "99999  1CWhH  1.764754 -0.266417  5.722849  149.633246\n",
       "\n",
       "[100000 rows x 5 columns]"
      ]
     },
     "metadata": {},
     "output_type": "display_data"
    }
   ],
   "source": [
    "#открываю файл, смотрю пропуски и дубликаты\n",
    "df1 = pd.read_csv('/datasets/geo_data_0.csv')\n",
    "df2 = pd.read_csv('/datasets/geo_data_1.csv')\n",
    "df3 = pd.read_csv('/datasets/geo_data_2.csv')\n",
    "display(df1)\n",
    "\n",
    "#print(df1.isna().sum())\n",
    "#print(df2.isna().sum())\n",
    "#print(df3.isna().sum())\n",
    "#df1.info()\n",
    "df1 = df1.drop_duplicates()\n",
    "df2 = df2.drop_duplicates()\n",
    "df3 = df3.drop_duplicates()"
   ]
  },
  {
   "cell_type": "code",
   "execution_count": 4,
   "metadata": {},
   "outputs": [],
   "source": [
    "#функция для фичей и таргета\n",
    "def f_t(df):\n",
    "    features = df.drop(['product','id'], axis=1)\n",
    "    target = df['product']\n",
    "    return features, target\n",
    "\n",
    "features_1, target_1 = f_t(df1)\n",
    "features_2, target_2 = f_t(df2)\n",
    "features_3, target_3 = f_t(df3)"
   ]
  },
  {
   "cell_type": "markdown",
   "metadata": {},
   "source": [
    "## Обучение и проверка модели"
   ]
  },
  {
   "cell_type": "code",
   "execution_count": 5,
   "metadata": {},
   "outputs": [],
   "source": [
    "#разделим на обучающую и тестовую выборки\n",
    "def train_test(features, target, test):\n",
    "    features_train, features_test, target_train, target_test = train_test_split(features, target, \n",
    "                                                                                test_size=test, random_state=12345)\n",
    "#    print('Размер обучающей выборки:', features_train.shape[0],'объектов')\n",
    "#    print('Размер тестовой выборки:',features_test.shape[0],'объекта')\n",
    "    return features_train, features_test, target_train, target_test\n",
    "\n",
    "features_train_1, features_test_1, target_train_1, target_test_1 =  train_test(features_1, target_1, 0.25)\n",
    "features_train_2, features_test_2, target_train_2, target_test_2 =  train_test(features_2, target_2, 0.25)\n",
    "features_train_3, features_test_3, target_train_3, target_test_3 =  train_test(features_3, target_3, 0.25)"
   ]
  },
  {
   "cell_type": "code",
   "execution_count": 6,
   "metadata": {
    "scrolled": true
   },
   "outputs": [
    {
     "data": {
      "image/png": "[encoded data removed]",
      "text/plain": [
       "<Figure size 576x576 with 2 Axes>"
      ]
     },
     "metadata": {
      "needs_background": "light"
     },
     "output_type": "display_data"
    }
   ],
   "source": [
    "#Проверка на мультикоолинеарность, по условию задачи на это не обращаем внимание\n",
    "def corr(df):\n",
    "    columns = df.columns\n",
    "    fig, ax = plt.subplots(figsize=(8,8))\n",
    "    sns.heatmap(df[columns].corr(), square=True, ax=ax, annot = True);\n",
    "    plt.title('Взаимосвязь признаков');\n",
    "\n",
    "corr(df1)\n",
    "#corr(df2)\n",
    "#corr(df3)"
   ]
  },
  {
   "cell_type": "code",
   "execution_count": 10,
   "metadata": {},
   "outputs": [],
   "source": [
    "#стандартизируем\n",
    "def scaler(features_train, features_test):\n",
    "    scaler = StandardScaler()\n",
    "    scaler.fit(features_train)\n",
    "    features_train_scaled = scaler.transform(features_train)\n",
    "    features_test_scaled = scaler.transform(features_test)\n",
    "    return features_train_scaled, features_test_scaled\n",
    "\n",
    "features_train_1, features_test_1 = scaler(features_train_1, features_test_1)\n",
    "features_train_2, features_test_2 = scaler(features_train_2, features_test_2)\n",
    "features_train_3, features_test_3 = scaler(features_train_3, features_test_3)"
   ]
  },
  {
   "cell_type": "code",
   "execution_count": 11,
   "metadata": {},
   "outputs": [],
   "source": [
    "#Создаю модель и делаю предсказание\n",
    "def LR_model(features_train, target_train, features_test):\n",
    "    model = LinearRegression()\n",
    "    model.fit(features_train, target_train)\n",
    "    prediction = model.predict(features_test)\n",
    "    pred_mean = prediction.mean()\n",
    "    \n",
    "    return prediction, pred_mean, model"
   ]
  },
  {
   "cell_type": "code",
   "execution_count": 12,
   "metadata": {},
   "outputs": [],
   "source": [
    "#расчет метрик\n",
    "def metrics(target, prediction):\n",
    "    rmse = np.sqrt(mean_squared_error(target, prediction))\n",
    "    r_2 = r2_score(target, prediction)\n",
    "    mae = mean_absolute_error(target, prediction)\n",
    "    \n",
    "    return rmse, r_2, mae"
   ]
  },
  {
   "cell_type": "code",
   "execution_count": 13,
   "metadata": {},
   "outputs": [],
   "source": [
    "#вывод метрик на экран\n",
    "def metrics_out(target, prediction, pred_mean):\n",
    "    rmse, r_2, mae = metrics(target, prediction)\n",
    "    df_metrics = pd.DataFrame(data= [rmse,r_2, mae, pred_mean], index= ['RMSE','r_2',\n",
    "                                                                       'MAE', 'Pred_mean']).T\n",
    "    return df_metrics"
   ]
  },
  {
   "cell_type": "code",
   "execution_count": 14,
   "metadata": {},
   "outputs": [
    {
     "data": {
      "text/html": [
       "<div>\n",
       "<style scoped>\n",
       "    .dataframe tbody tr th:only-of-type {\n",
       "        vertical-align: middle;\n",
       "    }\n",
       "\n",
       "    .dataframe tbody tr th {\n",
       "        vertical-align: top;\n",
       "    }\n",
       "\n",
       "    .dataframe thead th {\n",
       "        text-align: right;\n",
       "    }\n",
       "</style>\n",
       "<table border=\"1\" class=\"dataframe\">\n",
       "  <thead>\n",
       "    <tr style=\"text-align: right;\">\n",
       "      <th></th>\n",
       "      <th>RMSE</th>\n",
       "      <th>r_2</th>\n",
       "      <th>MAE</th>\n",
       "      <th>Pred_mean</th>\n",
       "    </tr>\n",
       "  </thead>\n",
       "  <tbody>\n",
       "    <tr>\n",
       "      <td>0</td>\n",
       "      <td>37.579422</td>\n",
       "      <td>0.279943</td>\n",
       "      <td>30.919601</td>\n",
       "      <td>92.592568</td>\n",
       "    </tr>\n",
       "  </tbody>\n",
       "</table>\n",
       "</div>"
      ],
      "text/plain": [
       "        RMSE       r_2        MAE  Pred_mean\n",
       "0  37.579422  0.279943  30.919601  92.592568"
      ]
     },
     "execution_count": 14,
     "metadata": {},
     "output_type": "execute_result"
    }
   ],
   "source": [
    "#расчет метрик для регионов\n",
    "df1_prediction, df1_pred_mean, df1_model = LR_model(features_train_1, target_train_1, features_test_1)\n",
    "metrics_out(target_test_1, df1_prediction, df1_pred_mean)"
   ]
  },
  {
   "cell_type": "code",
   "execution_count": 15,
   "metadata": {},
   "outputs": [
    {
     "data": {
      "text/html": [
       "<div>\n",
       "<style scoped>\n",
       "    .dataframe tbody tr th:only-of-type {\n",
       "        vertical-align: middle;\n",
       "    }\n",
       "\n",
       "    .dataframe tbody tr th {\n",
       "        vertical-align: top;\n",
       "    }\n",
       "\n",
       "    .dataframe thead th {\n",
       "        text-align: right;\n",
       "    }\n",
       "</style>\n",
       "<table border=\"1\" class=\"dataframe\">\n",
       "  <thead>\n",
       "    <tr style=\"text-align: right;\">\n",
       "      <th></th>\n",
       "      <th>RMSE</th>\n",
       "      <th>r_2</th>\n",
       "      <th>MAE</th>\n",
       "      <th>Pred_mean</th>\n",
       "    </tr>\n",
       "  </thead>\n",
       "  <tbody>\n",
       "    <tr>\n",
       "      <td>0</td>\n",
       "      <td>0.893099</td>\n",
       "      <td>0.999623</td>\n",
       "      <td>0.718766</td>\n",
       "      <td>68.728547</td>\n",
       "    </tr>\n",
       "  </tbody>\n",
       "</table>\n",
       "</div>"
      ],
      "text/plain": [
       "       RMSE       r_2       MAE  Pred_mean\n",
       "0  0.893099  0.999623  0.718766  68.728547"
      ]
     },
     "execution_count": 15,
     "metadata": {},
     "output_type": "execute_result"
    }
   ],
   "source": [
    "df2_prediction, df2_pred_mean, df2_model = LR_model(features_train_2, target_train_2, features_test_2)\n",
    "metrics_out(target_test_2, df2_prediction, df2_pred_mean)"
   ]
  },
  {
   "cell_type": "code",
   "execution_count": 16,
   "metadata": {},
   "outputs": [
    {
     "data": {
      "text/html": [
       "<div>\n",
       "<style scoped>\n",
       "    .dataframe tbody tr th:only-of-type {\n",
       "        vertical-align: middle;\n",
       "    }\n",
       "\n",
       "    .dataframe tbody tr th {\n",
       "        vertical-align: top;\n",
       "    }\n",
       "\n",
       "    .dataframe thead th {\n",
       "        text-align: right;\n",
       "    }\n",
       "</style>\n",
       "<table border=\"1\" class=\"dataframe\">\n",
       "  <thead>\n",
       "    <tr style=\"text-align: right;\">\n",
       "      <th></th>\n",
       "      <th>RMSE</th>\n",
       "      <th>r_2</th>\n",
       "      <th>MAE</th>\n",
       "      <th>Pred_mean</th>\n",
       "    </tr>\n",
       "  </thead>\n",
       "  <tbody>\n",
       "    <tr>\n",
       "      <td>0</td>\n",
       "      <td>40.029709</td>\n",
       "      <td>0.205248</td>\n",
       "      <td>32.792652</td>\n",
       "      <td>94.965046</td>\n",
       "    </tr>\n",
       "  </tbody>\n",
       "</table>\n",
       "</div>"
      ],
      "text/plain": [
       "        RMSE       r_2        MAE  Pred_mean\n",
       "0  40.029709  0.205248  32.792652  94.965046"
      ]
     },
     "execution_count": 16,
     "metadata": {},
     "output_type": "execute_result"
    }
   ],
   "source": [
    "df3_prediction, df3_pred_mean, df3_model = LR_model(features_train_3, target_train_3, features_test_3)\n",
    "metrics_out(target_test_3, df3_prediction, df3_pred_mean)"
   ]
  },
  {
   "cell_type": "markdown",
   "metadata": {},
   "source": [
    "# Промежуточный итог\n",
    "Метрики в регионе 2 значительно выше остальных, модель этого региона имеет лучшую точность.\n",
    "Коэффициент f2 имеет наибольший вес во всех регионах.\n",
    "Регионы 1 и 3 имеют приблизительно одинаковые значения RMSE Mae.\n"
   ]
  },
  {
   "cell_type": "markdown",
   "metadata": {},
   "source": [
    "## Подготовка к расчёту прибыли"
   ]
  },
  {
   "cell_type": "code",
   "execution_count": 18,
   "metadata": {},
   "outputs": [],
   "source": [
    "#значения для расчетов\n",
    "points = 500\n",
    "best_points = 200\n",
    "budget = 10e9\n",
    "barrel_income = 450000"
   ]
  },
  {
   "cell_type": "code",
   "execution_count": 19,
   "metadata": {},
   "outputs": [
    {
     "name": "stdout",
     "output_type": "stream",
     "text": [
      "Достаточный объём сырья для безубыточной разработки новой скважины 111.11 тыс. баррелей\n"
     ]
    }
   ],
   "source": [
    "# минимальный обьем для работы скважины\n",
    "min_value = budget/barrel_income/best_points\n",
    "print('Достаточный объём сырья для безубыточной разработки новой скважины %.2f'\n",
    "      %min_value,'тыс. баррелей')"
   ]
  },
  {
   "cell_type": "code",
   "execution_count": 20,
   "metadata": {},
   "outputs": [
    {
     "name": "stdout",
     "output_type": "stream",
     "text": [
      "Средний обьем скважины для региона df1 меньше минимального на 16.67 %\n",
      "Средний обьем скважины для региона df2 меньше минимального на 38.14 %\n",
      "Средний обьем скважины для региона df3 меньше минимального на 14.53 %\n"
     ]
    }
   ],
   "source": [
    "difference_1 = (1 - df1_pred_mean/min_value)*100\n",
    "difference_2 = (1 - df2_pred_mean/min_value)*100\n",
    "difference_3 = (1 - df3_pred_mean/min_value)*100\n",
    "\n",
    "print('Средний обьем скважины для региона df1 меньше минимального на %.2f'\n",
    "      %difference_1,'%')\n",
    "print('Средний обьем скважины для региона df2 меньше минимального на %.2f'\n",
    "      %difference_2,'%')\n",
    "print('Средний обьем скважины для региона df3 меньше минимального на %.2f'\n",
    "      %difference_3,'%')"
   ]
  },
  {
   "cell_type": "markdown",
   "metadata": {},
   "source": [
    "## Расчёт прибыли и рисков "
   ]
  },
  {
   "cell_type": "code",
   "execution_count": 64,
   "metadata": {},
   "outputs": [],
   "source": [
    "def tp_df(target, prediction):\n",
    "    df = pd.DataFrame(prediction)\n",
    "    df.index = target.index\n",
    "    df = df.join(target)\n",
    "    df = df.rename(columns={0:'predict', 'product':'target'})\n",
    "    return df\n",
    "\n",
    "df1_tp = tp_df(target_test_1, df1_prediction)\n",
    "df2_tp = tp_df(target_test_2, df2_prediction)\n",
    "df3_tp = tp_df(target_test_3, df3_prediction)"
   ]
  },
  {
   "cell_type": "code",
   "execution_count": 65,
   "metadata": {},
   "outputs": [],
   "source": [
    "df1_top200 = df1_tp.sort_values(by='predict', ascending=False).head(200)\n",
    "df2_top200 = df2_tp.sort_values(by='predict', ascending=False).head(200)\n",
    "df3_top200 = df3_tp.sort_values(by='predict', ascending=False).head(200)\n"
   ]
  },
  {
   "cell_type": "code",
   "execution_count": 66,
   "metadata": {},
   "outputs": [],
   "source": [
    "def income_profit(df):\n",
    "    income = df.target.sum()*barrel_income\n",
    "    profit = income - budget\n",
    "    print('Доход в регионе: %.2f'%(income/1000), 'тыс. рублей')\n",
    "    print('Прибыль в регионе: %.2f'%(profit/1000), 'тыс. рублей')\n",
    "    return income, profit"
   ]
  },
  {
   "cell_type": "code",
   "execution_count": 67,
   "metadata": {},
   "outputs": [
    {
     "name": "stdout",
     "output_type": "stream",
     "text": [
      "Доход в регионе: 13320826.04 тыс. рублей\n",
      "Прибыль в регионе: 3320826.04 тыс. рублей\n"
     ]
    }
   ],
   "source": [
    "income_profit_df1 = income_profit(df1_top200)"
   ]
  },
  {
   "cell_type": "code",
   "execution_count": 68,
   "metadata": {},
   "outputs": [
    {
     "name": "stdout",
     "output_type": "stream",
     "text": [
      "Доход в регионе: 12415086.70 тыс. рублей\n",
      "Прибыль в регионе: 2415086.70 тыс. рублей\n"
     ]
    }
   ],
   "source": [
    "income_profit_df2 = income_profit(df2_top200)"
   ]
  },
  {
   "cell_type": "code",
   "execution_count": 69,
   "metadata": {},
   "outputs": [
    {
     "name": "stdout",
     "output_type": "stream",
     "text": [
      "Доход в регионе: 12710349.96 тыс. рублей\n",
      "Прибыль в регионе: 2710349.96 тыс. рублей\n"
     ]
    }
   ],
   "source": [
    "income_profit_df3 = income_profit(df3_top200)"
   ]
  },
  {
   "cell_type": "markdown",
   "metadata": {},
   "source": [
    "# Вывод\n",
    "Лучшие показатели прибыли в регионе 1"
   ]
  },
  {
   "cell_type": "markdown",
   "metadata": {},
   "source": [
    "### Риски и прибыль по регионам"
   ]
  },
  {
   "cell_type": "code",
   "execution_count": 70,
   "metadata": {},
   "outputs": [],
   "source": [
    "def revenue(target, probabilities, count):\n",
    "    probs_sorted = probabilities.sort_values(ascending=False)\n",
    "    selected = target[probs_sorted.index][:count]\n",
    "    profit = (selected.sum()*barrel_income-budget)\n",
    "    return profit"
   ]
  },
  {
   "cell_type": "code",
   "execution_count": 71,
   "metadata": {},
   "outputs": [],
   "source": [
    "state = np.random.RandomState(12345)\n",
    "def bootstrap(data, N, count):\n",
    "    target = data.target\n",
    "    probabilities = data.predict\n",
    "    \n",
    "    values = []\n",
    "    for i in range(1000):\n",
    "        target_subsample = target.sample(n = N, replace=True, random_state=state)\n",
    "        probs_subsample = probabilities[target_subsample.index] \n",
    "        values.append(revenue(target_subsample, probs_subsample,count))\n",
    "\n",
    "    values = pd.Series(values)\n",
    "    lower = values.quantile(0.025)\n",
    "    upper = values.quantile(0.975)\n",
    "\n",
    "    mean = values.mean()/1000\n",
    "    print(\"Средняя прибыль:\", mean,'тыс.рублей')\n",
    "    print('95%-доверительный интервал от: {:.2f}'.format(lower/1000), 'до {:.2f}'.format(upper/1000), 'тыс.рублей')\n",
    "    return values"
   ]
  },
  {
   "cell_type": "code",
   "execution_count": 72,
   "metadata": {},
   "outputs": [
    {
     "name": "stdout",
     "output_type": "stream",
     "text": [
      "Средняя прибыль: 425938.52691059234 тыс.рублей\n",
      "95%-доверительный интервал от: -102090.09 до 947976.35 тыс.рублей\n"
     ]
    }
   ],
   "source": [
    "df1_values = bootstrap(df1_tp, 500,200)"
   ]
  },
  {
   "cell_type": "code",
   "execution_count": 73,
   "metadata": {},
   "outputs": [
    {
     "data": {
      "text/plain": [
       "<matplotlib.axes._subplots.AxesSubplot at 0x7f6665cfb810>"
      ]
     },
     "execution_count": 73,
     "metadata": {},
     "output_type": "execute_result"
    },
    {
     "data": {
      "image/png": "[encoded data removed]",
      "text/plain": [
       "<Figure size 432x288 with 1 Axes>"
      ]
     },
     "metadata": {
      "needs_background": "light"
     },
     "output_type": "display_data"
    }
   ],
   "source": [
    "df1_values.hist()"
   ]
  },
  {
   "cell_type": "code",
   "execution_count": 27,
   "metadata": {},
   "outputs": [
    {
     "name": "stdout",
     "output_type": "stream",
     "text": [
      "Средняя прибыль: 518259.49369732494 тыс.рублей\n",
      "95%-доверительный интервал от: 128123.23 до 953612.98 тыс.рублей\n"
     ]
    }
   ],
   "source": [
    "df2_values = bootstrap(df2_tp, 500,200)"
   ]
  },
  {
   "cell_type": "code",
   "execution_count": 28,
   "metadata": {},
   "outputs": [
    {
     "data": {
      "text/plain": [
       "<matplotlib.axes._subplots.AxesSubplot at 0x7f66668dc950>"
      ]
     },
     "execution_count": 28,
     "metadata": {},
     "output_type": "execute_result"
    },
    {
     "data": {
      "image/png": "[encoded data removed]",
      "text/plain": [
       "<Figure size 432x288 with 1 Axes>"
      ]
     },
     "metadata": {
      "needs_background": "light"
     },
     "output_type": "display_data"
    }
   ],
   "source": [
    "df2_values.hist()"
   ]
  },
  {
   "cell_type": "code",
   "execution_count": 74,
   "metadata": {},
   "outputs": [
    {
     "name": "stdout",
     "output_type": "stream",
     "text": [
      "Средняя прибыль: 426649.3222645483 тыс.рублей\n",
      "95%-доверительный интервал от: -135988.41 до 969619.00 тыс.рублей\n"
     ]
    }
   ],
   "source": [
    "df3_values = bootstrap(df3_tp, 500,200)"
   ]
  },
  {
   "cell_type": "code",
   "execution_count": 75,
   "metadata": {},
   "outputs": [
    {
     "data": {
      "text/plain": [
       "<matplotlib.axes._subplots.AxesSubplot at 0x7f666681dd50>"
      ]
     },
     "execution_count": 75,
     "metadata": {},
     "output_type": "execute_result"
    },
    {
     "data": {
      "image/png": "[encoded data removed]",
      "text/plain": [
       "<Figure size 432x288 with 1 Axes>"
      ]
     },
     "metadata": {
      "needs_background": "light"
     },
     "output_type": "display_data"
    }
   ],
   "source": [
    "df3_values.hist()"
   ]
  },
  {
   "cell_type": "code",
   "execution_count": 76,
   "metadata": {},
   "outputs": [
    {
     "name": "stdout",
     "output_type": "stream",
     "text": [
      "Риск получить убыток:6.0%\n",
      "Риск получить убыток:0.3%\n",
      "Риск получить убыток:7.6%\n"
     ]
    }
   ],
   "source": [
    "print('Риск получить убыток:{:.1%}'.format(df1_values[df1_values<0].shape[0]/df1_values.shape[0]))\n",
    "print('Риск получить убыток:{:.1%}'.format(df2_values[df2_values<0].shape[0]/df2_values.shape[0]))\n",
    "print('Риск получить убыток:{:.1%}'.format(df3_values[df3_values<0].shape[0]/df3_values.shape[0]))"
   ]
  },
  {
   "cell_type": "markdown",
   "metadata": {},
   "source": [
    "С помощью bootstrap рассчитал распределение прибыли по регонам. Лучший регион 2 с размером прибыли 518 млн рублей.\n",
    "Риск в регионе 2 0,3%, в остальных риски очень велики."
   ]
  }
 ],
 "metadata": {
  "kernelspec": {
   "display_name": "Python 3",
   "language": "python",
   "name": "python3"
  },
  "language_info": {
   "codemirror_mode": {
    "name": "ipython",
    "version": 3
   },
   "file_extension": ".py",
   "mimetype": "text/x-python",
   "name": "python",
   "nbconvert_exporter": "python",
   "pygments_lexer": "ipython3",
   "version": "3.7.8"
  },
  "toc": {
   "base_numbering": 1,
   "nav_menu": {},
   "number_sections": true,
   "sideBar": true,
   "skip_h1_title": true,
   "title_cell": "Table of Contents",
   "title_sidebar": "Contents",
   "toc_cell": false,
   "toc_position": {},
   "toc_section_display": true,
   "toc_window_display": false
  }
 },
 "nbformat": 4,
 "nbformat_minor": 2
}
